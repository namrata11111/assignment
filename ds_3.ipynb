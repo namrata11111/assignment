{
  "nbformat": 4,
  "nbformat_minor": 0,
  "metadata": {
    "colab": {
      "name": "ds 3.ipynb",
      "provenance": [],
      "collapsed_sections": [],
      "authorship_tag": "ABX9TyO5jNsvIlusVNrX+/UY9Z7J",
      "include_colab_link": true
    },
    "kernelspec": {
      "name": "python3",
      "display_name": "Python 3"
    },
    "language_info": {
      "name": "python"
    }
  },
  "cells": [
    {
      "cell_type": "markdown",
      "metadata": {
        "id": "view-in-github",
        "colab_type": "text"
      },
      "source": [
        "<a href=\"https://colab.research.google.com/github/namrata11111/assignment/blob/main/ds_3.ipynb\" target=\"_parent\"><img src=\"https://colab.research.google.com/assets/colab-badge.svg\" alt=\"Open In Colab\"/></a>"
      ]
    },
    {
      "cell_type": "code",
      "source": [
        "import tweepy\n",
        "auth = tweepy.OAuthHandler(\"FJOyNAsxTrKybho69Xg6fJ8SZ\", \"GgPXCbE10leOZ2CwBpsdGbraXGqlsjSFtfI74fc81ejeO2HDhS\")\n",
        "auth.set_access_token(\"1516717597102047236-4Yp8jpVIEbKStGRscnwKuiaOVR2tbu\", \"wFydbbUOx37zgkcipvrmRTKtPyZWiQWj5zkjWmZcH0SF3\")\n",
        "api = tweepy.API(auth)\n"
      ],
      "metadata": {
        "id": "DIahcaFuArPB"
      },
      "execution_count": null,
      "outputs": []
    },
    {
      "cell_type": "code",
      "source": [
        "tweets = api.home_timeline()\n",
        "for tweet in tweets:\n",
        "    print(tweet.text)"
      ],
      "metadata": {
        "colab": {
          "base_uri": "https://localhost:8080/"
        },
        "id": "qZKe6f2F_APf",
        "outputId": "3ea421ca-9f73-4bd3-a834-6bc3982da68f"
      },
      "execution_count": null,
      "outputs": [
        {
          "output_type": "stream",
          "name": "stdout",
          "text": [
            "New cabinet takes oath in Odisha, 13 MLAs sworn in https://t.co/guDjccEZ8j\n",
            "First Hajj 2022 flight with 145 J&amp;K pilgrims takes off from Srinagar https://t.co/lFoha0k1If\n",
            "India's efforts to protect environment multi-dimensional: PM Modi https://t.co/s61EuNQnyw\n",
            "Police arrest fourth accused in Hyderabad gang-rape case https://t.co/dwkWYsPuJ1\n",
            "Disgruntled Cong MLAs meet Ashok Gehlot, likely to accompany CM to Udaipur https://t.co/Aj8idISoxu\n",
            "Disgruntled Cong MLAs meet Gehlot, likely to accompany CM to Udaipur https://t.co/nZAkbpInXQ\n",
            "India reports 4,270 new Covid cases, daily positivity rate above 1% after 34 days https://t.co/DuSK9yVkpF\n",
            "PM Modi wishes Yogi Adityanath on 50th birthday https://t.co/nRLk9aKsKq\n",
            "From 350, only 20 Pandits now left in Kupwara camp https://t.co/78YanTxmek\n",
            "Biological E has delivered 100m Corbevax doses so far https://t.co/Vwkd8VWvL0\n",
            "NHRC chief for environment protection as human right https://t.co/x0Qe6YhCNR\n",
            "Centre: Ensure single-use plastic ban by end of June https://t.co/oTHXVHGOYj\n",
            "Today, let’s pledge to help save the Earth by planting trees https://t.co/CIAXlDsYaM\n",
            "In 2020, almost every 2nd Delhi road death was a pedestrian’s https://t.co/D7VtGommjx\n",
            "Odisha mantris step down, CM to reshuffle ministry today https://t.co/8F1WkJFozX\n",
            "DCP ‘relieved from duty’ after ‘Uncultured’ row https://t.co/EpfThBZ2cj\n",
            "Drop ‘obscene’ deo ad: Govt to Twitter, YouTube https://t.co/jHvSZE3YEL\n",
            "‘Parvati’ removed from China border https://t.co/4z2iq2Dzqw\n",
            "AAP neta: Himanta gave PPE kit deal to kin’s firm https://t.co/vfcksYeZQY\n",
            "Not a single penny was transacted: Assam CM https://t.co/ljJeczlcIi\n"
          ]
        }
      ]
    },
    {
      "cell_type": "code",
      "source": [
        ""
      ],
      "metadata": {
        "id": "_2lrZqh4AonM"
      },
      "execution_count": null,
      "outputs": []
    }
  ]
}